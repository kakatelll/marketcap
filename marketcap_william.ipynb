{
 "cells": [
  {
   "cell_type": "markdown",
   "metadata": {},
   "source": [
    "# Import Data"
   ]
  },
  {
   "cell_type": "code",
   "execution_count": 1,
   "metadata": {},
   "outputs": [],
   "source": [
    "import pandas as pd\n",
    "import numpy as np"
   ]
  },
  {
   "cell_type": "code",
   "execution_count": null,
   "metadata": {},
   "outputs": [],
   "source": [
    "# Import data from excel\n",
    "xls = pd.ExcelFile(\"hk_603ipo_mrk_value.xlsm\")"
   ]
  },
  {
   "cell_type": "code",
   "execution_count": null,
   "metadata": {},
   "outputs": [],
   "source": [
    "df = pd.read_excel(xls, 'Sheet1')\n",
    "df['Name']=df['Name'].str.strip(\"<>\")\n",
    "df.columns = df.columns.astype(str)\n",
    "df.columns = df.columns.str.replace(\" 00:00:00\",\"\")\n",
    "df"
   ]
  },
  {
   "cell_type": "code",
   "execution_count": null,
   "metadata": {},
   "outputs": [],
   "source": [
    "# Import TR and Return1Year data\n",
    "tr = pd.read_csv('data_TR.csv',usecols=['Instrument','IPO Date','TRBC Economic Sector Name'])\n",
    "tr[\"IPO Date\"] = pd.to_datetime(tr[\"IPO Date\"]).dt.strftime('%Y-%m-%d')\n",
    "\n",
    "stockReturn = pd.read_excel('Short_performance2.xlsx')[['Company','return_1year']]\n",
    "stockReturn[\"Company\"] = stockReturn[\"Company\"].astype(str).str.cat(['.HK']*603)\n",
    "\n",
    "tr = tr.merge(stockReturn, left_on='Instrument', right_on='Company')\n",
    "tr"
   ]
  },
  {
   "cell_type": "markdown",
   "metadata": {},
   "source": [
    "# Find peer groups and MktCap"
   ]
  },
  {
   "cell_type": "code",
   "execution_count": null,
   "metadata": {},
   "outputs": [],
   "source": [
    "ipodate = tr.loc[tr[\"Instrument\"] == \"1353.HK\", \"IPO Date\"].values[0]\n",
    "marketcap = df.loc[df['Name'] == \"1353.HK\",ipodate].values[0]\n",
    "print(str(ipodate) + \" \" + str(marketcap))"
   ]
  },
  {
   "cell_type": "code",
   "execution_count": null,
   "metadata": {},
   "outputs": [],
   "source": [
    "# get list of stocks\n",
    "stocknames = tr['Instrument'].values\n",
    "\n",
    "# create dataframe with MktCap and return_1year\n",
    "data = pd.DataFrame(columns = ['Stock','Industry','IPO','MktCap', \"return_1year\"])\n",
    "for stock in stocknames:\n",
    "    try:\n",
    "        industry = tr.loc[tr[\"Instrument\"] == stock, \"TRBC Economic Sector Name\"].values[0]\n",
    "        return_1year = tr.loc[tr[\"Instrument\"] == stock, \"return_1year\"].values[0]\n",
    "        ipodate = tr.loc[tr[\"Instrument\"] == stock, \"IPO Date\"].values[0]\n",
    "        marketcap = df.loc[df[\"Name\"] == stock, ipodate].values[0]\n",
    "        if pd.isna(marketcap): continue\n",
    "        data = data.append({'Stock': stock, 'Industry': industry, 'IPO': ipodate, 'MktCap': marketcap, 'return_1year': return_1year}, ignore_index=True)\n",
    "    except KeyError as e:\n",
    "        #print(str(stock) + \" \" + str(e))\n",
    "        continue\n",
    "\n",
    "data"
   ]
  },
  {
   "cell_type": "code",
   "execution_count": null,
   "metadata": {},
   "outputs": [],
   "source": [
    "# Find company with best performance among peers\n",
    "graph_MktCap = []\n",
    "graph_Return1Year = []\n",
    "\n",
    "for industry in data.Industry.unique():\n",
    "    \n",
    "    divisions = 10 if industry in [\"Consumer Cyclicals\", \"Industrials\"] else 1 if industry in [\"Utilities\", \"Energy\"] else 4\n",
    "    size = int(len(data.loc[data[\"Industry\"] == industry].sort_values(by=['MktCap']))/divisions)\n",
    "    remainder = len(data.loc[data[\"Industry\"] == industry].sort_values(by=['MktCap']))%divisions\n",
    "    \n",
    "    print(\"Industry: \" + str(industry))\n",
    "    mc, r1y = [], []\n",
    "    \n",
    "    for d in range(divisions):\n",
    "        \n",
    "        start = d*size\n",
    "        end = (d+1)*size+1 if d<remainder else (d+1)*size\n",
    "        peers = data.loc[data[\"Industry\"] == industry].sort_values(by=['MktCap']).iloc[start:end]\n",
    "        \n",
    "        #print(peers.sort_values(by=['return_1year'], ascending=False).iloc[0:1])\n",
    "        best = peers.sort_values(by=['return_1year'], ascending=False).iloc[0:1]\n",
    "        stock = best[\"Stock\"].values[0]\n",
    "        MktCap = round(best[\"MktCap\"].values[0], 3)\n",
    "        Return1Year = round(best['return_1year'].values[0], 5)\n",
    "        \n",
    "        print(\"Division {} - [Stock: {}] [MktCap: {}] [Return1Year: {}]\".format(d+1, stock, MktCap, Return1Year))\n",
    "        mc.append(MktCap)\n",
    "        r1y.append(Return1Year)\n",
    "    \n",
    "    graph_MktCap.append(mc)\n",
    "    graph_Return1Year.append(r1y)\n",
    "    print(\"=====END=====\\n\")"
   ]
  },
  {
   "cell_type": "code",
   "execution_count": null,
   "metadata": {},
   "outputs": [],
   "source": [
    "# Find average performance of peer groups\n",
    "graph_avgMktCap = []\n",
    "graph_avgReturn1Year = []\n",
    "\n",
    "for industry in data.Industry.unique():\n",
    "    \n",
    "    divisions = 10 if industry in [\"Consumer Cyclicals\", \"Industrials\"] else 1 if industry in [\"Utilities\", \"Energy\"] else 4\n",
    "    size = int(len(data.loc[data[\"Industry\"] == industry].sort_values(by=['MktCap']))/divisions)\n",
    "    remainder = len(data.loc[data[\"Industry\"] == industry].sort_values(by=['MktCap']))%divisions\n",
    "    \n",
    "    print(\"Industry: \" + str(industry))\n",
    "    mc, r1y = [], []\n",
    "    \n",
    "    for d in range(divisions):\n",
    "    \n",
    "        start = d*size\n",
    "        end = (d+1)*size+1 if d<remainder else (d+1)*size\n",
    "        peers = data.loc[data[\"Industry\"] == industry].sort_values(by=['MktCap']).iloc[start:end]\n",
    "        \n",
    "        avgMktCap = round(peers[\"MktCap\"].mean(), 3)\n",
    "        avgReturn1Year = round(peers['return_1year'].mean(), 5)\n",
    "        \n",
    "        print(\"Division {} - [avgMktCap: {}] [avgReturn1Year: {}]\".format(d+1, avgMktCap, avgReturn1Year))\n",
    "        mc.append(avgMktCap)\n",
    "        r1y.append(avgReturn1Year)\n",
    "        \n",
    "    graph_avgMktCap.append(mc)\n",
    "    graph_avgReturn1Year.append(r1y)\n",
    "    print(\"=====END=====\\n\")"
   ]
  },
  {
   "cell_type": "markdown",
   "metadata": {},
   "source": [
    "# Plot against Return1Year"
   ]
  },
  {
   "cell_type": "code",
   "execution_count": null,
   "metadata": {},
   "outputs": [],
   "source": [
    "import matplotlib.pyplot as plt"
   ]
  },
  {
   "cell_type": "code",
   "execution_count": null,
   "metadata": {},
   "outputs": [],
   "source": [
    "# Plot company with best performance among peers\n",
    "x1 = graph_MktCap\n",
    "y1 = graph_Return1Year\n",
    "\n",
    "industries = data.Industry.unique()\n",
    "for i in range(len(industries)):\n",
    "    plt.figure(figsize=(4, 2))\n",
    "    plt.title(industries[i])\n",
    "    plt.plot(x1[i],y1[i])"
   ]
  },
  {
   "cell_type": "code",
   "execution_count": null,
   "metadata": {},
   "outputs": [],
   "source": [
    "# Plot average performance of peer groups\n",
    "x2 = graph_avgMktCap\n",
    "y2 = graph_avgReturn1Year\n",
    "\n",
    "industries = data.Industry.unique()\n",
    "for i in range(len(industries)):\n",
    "    plt.figure(figsize=(4, 2))\n",
    "    plt.title(industries[i])\n",
    "    plt.plot(x1[i],y1[i])"
   ]
  },
  {
   "cell_type": "code",
   "execution_count": null,
   "metadata": {},
   "outputs": [],
   "source": []
  }
 ],
 "metadata": {
  "kernelspec": {
   "display_name": "Python 3",
   "language": "python",
   "name": "python3"
  },
  "language_info": {
   "codemirror_mode": {
    "name": "ipython",
    "version": 3
   },
   "file_extension": ".py",
   "mimetype": "text/x-python",
   "name": "python",
   "nbconvert_exporter": "python",
   "pygments_lexer": "ipython3",
   "version": "3.8.3"
  }
 },
 "nbformat": 4,
 "nbformat_minor": 4
}
