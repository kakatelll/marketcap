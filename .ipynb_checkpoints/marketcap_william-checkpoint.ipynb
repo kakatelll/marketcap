{
 "cells": [
  {
   "cell_type": "markdown",
   "metadata": {},
   "source": [
    "# Import Data"
   ]
  },
  {
   "cell_type": "code",
   "execution_count": 1,
   "metadata": {},
   "outputs": [],
   "source": [
    "import pandas as pd\n",
    "import numpy as np"
   ]
  },
  {
   "cell_type": "code",
   "execution_count": 2,
   "metadata": {},
   "outputs": [],
   "source": [
    "# Import data from excel\n",
    "xls = pd.ExcelFile(\"hk_603ipo_mrk_value.xlsm\")"
   ]
  },
  {
   "cell_type": "code",
   "execution_count": 3,
   "metadata": {},
   "outputs": [
    {
     "data": {
      "text/html": [
       "<div>\n",
       "<style scoped>\n",
       "    .dataframe tbody tr th:only-of-type {\n",
       "        vertical-align: middle;\n",
       "    }\n",
       "\n",
       "    .dataframe tbody tr th {\n",
       "        vertical-align: top;\n",
       "    }\n",
       "\n",
       "    .dataframe thead th {\n",
       "        text-align: right;\n",
       "    }\n",
       "</style>\n",
       "<table border=\"1\" class=\"dataframe\">\n",
       "  <thead>\n",
       "    <tr style=\"text-align: right;\">\n",
       "      <th></th>\n",
       "      <th>Name</th>\n",
       "      <th>1988-12-30</th>\n",
       "      <th>1989-01-02</th>\n",
       "      <th>1989-01-03</th>\n",
       "      <th>1989-01-04</th>\n",
       "      <th>1989-01-05</th>\n",
       "      <th>1989-01-06</th>\n",
       "      <th>1989-01-09</th>\n",
       "      <th>1989-01-10</th>\n",
       "      <th>1989-01-11</th>\n",
       "      <th>...</th>\n",
       "      <th>2020-06-18</th>\n",
       "      <th>2020-06-19</th>\n",
       "      <th>2020-06-22</th>\n",
       "      <th>2020-06-23</th>\n",
       "      <th>2020-06-24</th>\n",
       "      <th>2020-06-25</th>\n",
       "      <th>2020-06-26</th>\n",
       "      <th>2020-06-29</th>\n",
       "      <th>2020-06-30</th>\n",
       "      <th>2020-07-01</th>\n",
       "    </tr>\n",
       "  </thead>\n",
       "  <tbody>\n",
       "    <tr>\n",
       "      <th>0</th>\n",
       "      <td>1353.HK</td>\n",
       "      <td>NaN</td>\n",
       "      <td>NaN</td>\n",
       "      <td>NaN</td>\n",
       "      <td>NaN</td>\n",
       "      <td>NaN</td>\n",
       "      <td>NaN</td>\n",
       "      <td>NaN</td>\n",
       "      <td>NaN</td>\n",
       "      <td>NaN</td>\n",
       "      <td>...</td>\n",
       "      <td>610.790</td>\n",
       "      <td>610.790</td>\n",
       "      <td>610.790</td>\n",
       "      <td>610.790</td>\n",
       "      <td>610.790</td>\n",
       "      <td>610.790</td>\n",
       "      <td>610.790</td>\n",
       "      <td>610.790</td>\n",
       "      <td>610.790</td>\n",
       "      <td>610.790</td>\n",
       "    </tr>\n",
       "    <tr>\n",
       "      <th>1</th>\n",
       "      <td>1439.HK</td>\n",
       "      <td>NaN</td>\n",
       "      <td>NaN</td>\n",
       "      <td>NaN</td>\n",
       "      <td>NaN</td>\n",
       "      <td>NaN</td>\n",
       "      <td>NaN</td>\n",
       "      <td>NaN</td>\n",
       "      <td>NaN</td>\n",
       "      <td>NaN</td>\n",
       "      <td>...</td>\n",
       "      <td>0.051</td>\n",
       "      <td>0.051</td>\n",
       "      <td>0.054</td>\n",
       "      <td>0.052</td>\n",
       "      <td>0.051</td>\n",
       "      <td>0.051</td>\n",
       "      <td>0.052</td>\n",
       "      <td>0.053</td>\n",
       "      <td>0.052</td>\n",
       "      <td>0.052</td>\n",
       "    </tr>\n",
       "    <tr>\n",
       "      <th>2</th>\n",
       "      <td>1247.HK</td>\n",
       "      <td>NaN</td>\n",
       "      <td>NaN</td>\n",
       "      <td>NaN</td>\n",
       "      <td>NaN</td>\n",
       "      <td>NaN</td>\n",
       "      <td>NaN</td>\n",
       "      <td>NaN</td>\n",
       "      <td>NaN</td>\n",
       "      <td>NaN</td>\n",
       "      <td>...</td>\n",
       "      <td>0.035</td>\n",
       "      <td>0.037</td>\n",
       "      <td>0.035</td>\n",
       "      <td>0.033</td>\n",
       "      <td>0.033</td>\n",
       "      <td>0.033</td>\n",
       "      <td>0.033</td>\n",
       "      <td>0.033</td>\n",
       "      <td>0.032</td>\n",
       "      <td>0.032</td>\n",
       "    </tr>\n",
       "    <tr>\n",
       "      <th>3</th>\n",
       "      <td>3332.HK</td>\n",
       "      <td>NaN</td>\n",
       "      <td>NaN</td>\n",
       "      <td>NaN</td>\n",
       "      <td>NaN</td>\n",
       "      <td>NaN</td>\n",
       "      <td>NaN</td>\n",
       "      <td>NaN</td>\n",
       "      <td>NaN</td>\n",
       "      <td>NaN</td>\n",
       "      <td>...</td>\n",
       "      <td>0.172</td>\n",
       "      <td>0.180</td>\n",
       "      <td>0.180</td>\n",
       "      <td>0.157</td>\n",
       "      <td>0.145</td>\n",
       "      <td>0.145</td>\n",
       "      <td>0.145</td>\n",
       "      <td>0.130</td>\n",
       "      <td>0.130</td>\n",
       "      <td>0.130</td>\n",
       "    </tr>\n",
       "    <tr>\n",
       "      <th>4</th>\n",
       "      <td>2080.HK</td>\n",
       "      <td>NaN</td>\n",
       "      <td>NaN</td>\n",
       "      <td>NaN</td>\n",
       "      <td>NaN</td>\n",
       "      <td>NaN</td>\n",
       "      <td>NaN</td>\n",
       "      <td>NaN</td>\n",
       "      <td>NaN</td>\n",
       "      <td>NaN</td>\n",
       "      <td>...</td>\n",
       "      <td>0.415</td>\n",
       "      <td>0.420</td>\n",
       "      <td>0.405</td>\n",
       "      <td>0.410</td>\n",
       "      <td>0.410</td>\n",
       "      <td>0.410</td>\n",
       "      <td>0.425</td>\n",
       "      <td>0.410</td>\n",
       "      <td>0.410</td>\n",
       "      <td>0.410</td>\n",
       "    </tr>\n",
       "    <tr>\n",
       "      <th>...</th>\n",
       "      <td>...</td>\n",
       "      <td>...</td>\n",
       "      <td>...</td>\n",
       "      <td>...</td>\n",
       "      <td>...</td>\n",
       "      <td>...</td>\n",
       "      <td>...</td>\n",
       "      <td>...</td>\n",
       "      <td>...</td>\n",
       "      <td>...</td>\n",
       "      <td>...</td>\n",
       "      <td>...</td>\n",
       "      <td>...</td>\n",
       "      <td>...</td>\n",
       "      <td>...</td>\n",
       "      <td>...</td>\n",
       "      <td>...</td>\n",
       "      <td>...</td>\n",
       "      <td>...</td>\n",
       "      <td>...</td>\n",
       "      <td>...</td>\n",
       "    </tr>\n",
       "    <tr>\n",
       "      <th>598</th>\n",
       "      <td>6049.HK</td>\n",
       "      <td>NaN</td>\n",
       "      <td>NaN</td>\n",
       "      <td>NaN</td>\n",
       "      <td>NaN</td>\n",
       "      <td>NaN</td>\n",
       "      <td>NaN</td>\n",
       "      <td>NaN</td>\n",
       "      <td>NaN</td>\n",
       "      <td>NaN</td>\n",
       "      <td>...</td>\n",
       "      <td>80.550</td>\n",
       "      <td>82.650</td>\n",
       "      <td>79.750</td>\n",
       "      <td>79.100</td>\n",
       "      <td>76.800</td>\n",
       "      <td>76.800</td>\n",
       "      <td>77.750</td>\n",
       "      <td>78.150</td>\n",
       "      <td>78.000</td>\n",
       "      <td>78.000</td>\n",
       "    </tr>\n",
       "    <tr>\n",
       "      <th>599</th>\n",
       "      <td>9928.HK</td>\n",
       "      <td>NaN</td>\n",
       "      <td>NaN</td>\n",
       "      <td>NaN</td>\n",
       "      <td>NaN</td>\n",
       "      <td>NaN</td>\n",
       "      <td>NaN</td>\n",
       "      <td>NaN</td>\n",
       "      <td>NaN</td>\n",
       "      <td>NaN</td>\n",
       "      <td>...</td>\n",
       "      <td>10.240</td>\n",
       "      <td>10.420</td>\n",
       "      <td>10.740</td>\n",
       "      <td>10.480</td>\n",
       "      <td>10.240</td>\n",
       "      <td>10.240</td>\n",
       "      <td>10.520</td>\n",
       "      <td>10.520</td>\n",
       "      <td>10.520</td>\n",
       "      <td>10.520</td>\n",
       "    </tr>\n",
       "    <tr>\n",
       "      <th>600</th>\n",
       "      <td>9909.HK</td>\n",
       "      <td>NaN</td>\n",
       "      <td>NaN</td>\n",
       "      <td>NaN</td>\n",
       "      <td>NaN</td>\n",
       "      <td>NaN</td>\n",
       "      <td>NaN</td>\n",
       "      <td>NaN</td>\n",
       "      <td>NaN</td>\n",
       "      <td>NaN</td>\n",
       "      <td>...</td>\n",
       "      <td>17.060</td>\n",
       "      <td>17.560</td>\n",
       "      <td>17.440</td>\n",
       "      <td>17.880</td>\n",
       "      <td>17.640</td>\n",
       "      <td>17.640</td>\n",
       "      <td>17.720</td>\n",
       "      <td>17.620</td>\n",
       "      <td>17.900</td>\n",
       "      <td>17.900</td>\n",
       "    </tr>\n",
       "    <tr>\n",
       "      <th>601</th>\n",
       "      <td>9911.HK</td>\n",
       "      <td>NaN</td>\n",
       "      <td>NaN</td>\n",
       "      <td>NaN</td>\n",
       "      <td>NaN</td>\n",
       "      <td>NaN</td>\n",
       "      <td>NaN</td>\n",
       "      <td>NaN</td>\n",
       "      <td>NaN</td>\n",
       "      <td>NaN</td>\n",
       "      <td>...</td>\n",
       "      <td>2.100</td>\n",
       "      <td>2.120</td>\n",
       "      <td>1.970</td>\n",
       "      <td>2.030</td>\n",
       "      <td>1.940</td>\n",
       "      <td>1.940</td>\n",
       "      <td>1.970</td>\n",
       "      <td>1.950</td>\n",
       "      <td>1.940</td>\n",
       "      <td>1.940</td>\n",
       "    </tr>\n",
       "    <tr>\n",
       "      <th>602</th>\n",
       "      <td>1542.HK</td>\n",
       "      <td>NaN</td>\n",
       "      <td>NaN</td>\n",
       "      <td>NaN</td>\n",
       "      <td>NaN</td>\n",
       "      <td>NaN</td>\n",
       "      <td>NaN</td>\n",
       "      <td>NaN</td>\n",
       "      <td>NaN</td>\n",
       "      <td>NaN</td>\n",
       "      <td>...</td>\n",
       "      <td>3.810</td>\n",
       "      <td>3.810</td>\n",
       "      <td>3.810</td>\n",
       "      <td>3.810</td>\n",
       "      <td>3.810</td>\n",
       "      <td>3.810</td>\n",
       "      <td>3.850</td>\n",
       "      <td>3.800</td>\n",
       "      <td>3.800</td>\n",
       "      <td>3.800</td>\n",
       "    </tr>\n",
       "  </tbody>\n",
       "</table>\n",
       "<p>603 rows × 8220 columns</p>\n",
       "</div>"
      ],
      "text/plain": [
       "        Name 1988-12-30  1989-01-02  1989-01-03  1989-01-04  1989-01-05  \\\n",
       "0    1353.HK        NaN         NaN         NaN         NaN         NaN   \n",
       "1    1439.HK        NaN         NaN         NaN         NaN         NaN   \n",
       "2    1247.HK        NaN         NaN         NaN         NaN         NaN   \n",
       "3    3332.HK        NaN         NaN         NaN         NaN         NaN   \n",
       "4    2080.HK        NaN         NaN         NaN         NaN         NaN   \n",
       "..       ...        ...         ...         ...         ...         ...   \n",
       "598  6049.HK        NaN         NaN         NaN         NaN         NaN   \n",
       "599  9928.HK        NaN         NaN         NaN         NaN         NaN   \n",
       "600  9909.HK        NaN         NaN         NaN         NaN         NaN   \n",
       "601  9911.HK        NaN         NaN         NaN         NaN         NaN   \n",
       "602  1542.HK        NaN         NaN         NaN         NaN         NaN   \n",
       "\n",
       "     1989-01-06  1989-01-09  1989-01-10  1989-01-11  ...  2020-06-18  \\\n",
       "0           NaN         NaN         NaN         NaN  ...     610.790   \n",
       "1           NaN         NaN         NaN         NaN  ...       0.051   \n",
       "2           NaN         NaN         NaN         NaN  ...       0.035   \n",
       "3           NaN         NaN         NaN         NaN  ...       0.172   \n",
       "4           NaN         NaN         NaN         NaN  ...       0.415   \n",
       "..          ...         ...         ...         ...  ...         ...   \n",
       "598         NaN         NaN         NaN         NaN  ...      80.550   \n",
       "599         NaN         NaN         NaN         NaN  ...      10.240   \n",
       "600         NaN         NaN         NaN         NaN  ...      17.060   \n",
       "601         NaN         NaN         NaN         NaN  ...       2.100   \n",
       "602         NaN         NaN         NaN         NaN  ...       3.810   \n",
       "\n",
       "     2020-06-19  2020-06-22  2020-06-23  2020-06-24  2020-06-25  2020-06-26  \\\n",
       "0       610.790     610.790     610.790     610.790     610.790     610.790   \n",
       "1         0.051       0.054       0.052       0.051       0.051       0.052   \n",
       "2         0.037       0.035       0.033       0.033       0.033       0.033   \n",
       "3         0.180       0.180       0.157       0.145       0.145       0.145   \n",
       "4         0.420       0.405       0.410       0.410       0.410       0.425   \n",
       "..          ...         ...         ...         ...         ...         ...   \n",
       "598      82.650      79.750      79.100      76.800      76.800      77.750   \n",
       "599      10.420      10.740      10.480      10.240      10.240      10.520   \n",
       "600      17.560      17.440      17.880      17.640      17.640      17.720   \n",
       "601       2.120       1.970       2.030       1.940       1.940       1.970   \n",
       "602       3.810       3.810       3.810       3.810       3.810       3.850   \n",
       "\n",
       "     2020-06-29  2020-06-30  2020-07-01  \n",
       "0       610.790     610.790     610.790  \n",
       "1         0.053       0.052       0.052  \n",
       "2         0.033       0.032       0.032  \n",
       "3         0.130       0.130       0.130  \n",
       "4         0.410       0.410       0.410  \n",
       "..          ...         ...         ...  \n",
       "598      78.150      78.000      78.000  \n",
       "599      10.520      10.520      10.520  \n",
       "600      17.620      17.900      17.900  \n",
       "601       1.950       1.940       1.940  \n",
       "602       3.800       3.800       3.800  \n",
       "\n",
       "[603 rows x 8220 columns]"
      ]
     },
     "execution_count": 3,
     "metadata": {},
     "output_type": "execute_result"
    }
   ],
   "source": [
    "df = pd.read_excel(xls, 'Sheet1')\n",
    "df['Name']=df['Name'].str.strip(\"<>\")\n",
    "df.columns = df.columns.astype(str)\n",
    "df.columns = df.columns.str.replace(\" 00:00:00\",\"\")\n",
    "df"
   ]
  },
  {
   "cell_type": "code",
   "execution_count": 4,
   "metadata": {},
   "outputs": [
    {
     "data": {
      "text/html": [
       "<div>\n",
       "<style scoped>\n",
       "    .dataframe tbody tr th:only-of-type {\n",
       "        vertical-align: middle;\n",
       "    }\n",
       "\n",
       "    .dataframe tbody tr th {\n",
       "        vertical-align: top;\n",
       "    }\n",
       "\n",
       "    .dataframe thead th {\n",
       "        text-align: right;\n",
       "    }\n",
       "</style>\n",
       "<table border=\"1\" class=\"dataframe\">\n",
       "  <thead>\n",
       "    <tr style=\"text-align: right;\">\n",
       "      <th></th>\n",
       "      <th>Instrument</th>\n",
       "      <th>IPO Date</th>\n",
       "      <th>TRBC Economic Sector Name</th>\n",
       "      <th>Company</th>\n",
       "      <th>return_1year</th>\n",
       "    </tr>\n",
       "  </thead>\n",
       "  <tbody>\n",
       "    <tr>\n",
       "      <th>0</th>\n",
       "      <td>1353.HK</td>\n",
       "      <td>2014-09-01</td>\n",
       "      <td>Consumer Cyclicals</td>\n",
       "      <td>1353.HK</td>\n",
       "      <td>0.000000</td>\n",
       "    </tr>\n",
       "    <tr>\n",
       "      <th>1</th>\n",
       "      <td>1439.HK</td>\n",
       "      <td>2014-01-13</td>\n",
       "      <td>Basic Materials</td>\n",
       "      <td>1439.HK</td>\n",
       "      <td>0.000000</td>\n",
       "    </tr>\n",
       "    <tr>\n",
       "      <th>2</th>\n",
       "      <td>1247.HK</td>\n",
       "      <td>2014-01-15</td>\n",
       "      <td>Consumer Cyclicals</td>\n",
       "      <td>1247.HK</td>\n",
       "      <td>0.040404</td>\n",
       "    </tr>\n",
       "    <tr>\n",
       "      <th>3</th>\n",
       "      <td>3332.HK</td>\n",
       "      <td>2014-01-15</td>\n",
       "      <td>Consumer Cyclicals</td>\n",
       "      <td>3332.HK</td>\n",
       "      <td>0.021053</td>\n",
       "    </tr>\n",
       "    <tr>\n",
       "      <th>4</th>\n",
       "      <td>2080.HK</td>\n",
       "      <td>2014-01-23</td>\n",
       "      <td>Real Estate</td>\n",
       "      <td>2080.HK</td>\n",
       "      <td>-0.010753</td>\n",
       "    </tr>\n",
       "    <tr>\n",
       "      <th>...</th>\n",
       "      <td>...</td>\n",
       "      <td>...</td>\n",
       "      <td>...</td>\n",
       "      <td>...</td>\n",
       "      <td>...</td>\n",
       "    </tr>\n",
       "    <tr>\n",
       "      <th>577</th>\n",
       "      <td>6049.HK</td>\n",
       "      <td>2019-12-19</td>\n",
       "      <td>Real Estate</td>\n",
       "      <td>6049.HK</td>\n",
       "      <td>0.037037</td>\n",
       "    </tr>\n",
       "    <tr>\n",
       "      <th>578</th>\n",
       "      <td>9928.HK</td>\n",
       "      <td>2019-12-19</td>\n",
       "      <td>Real Estate</td>\n",
       "      <td>9928.HK</td>\n",
       "      <td>0.018182</td>\n",
       "    </tr>\n",
       "    <tr>\n",
       "      <th>579</th>\n",
       "      <td>9909.HK</td>\n",
       "      <td>2019-12-30</td>\n",
       "      <td>Consumer Cyclicals</td>\n",
       "      <td>9909.HK</td>\n",
       "      <td>-0.024645</td>\n",
       "    </tr>\n",
       "    <tr>\n",
       "      <th>580</th>\n",
       "      <td>9911.HK</td>\n",
       "      <td>2019-12-31</td>\n",
       "      <td>Consumer Cyclicals</td>\n",
       "      <td>9911.HK</td>\n",
       "      <td>0.031746</td>\n",
       "    </tr>\n",
       "    <tr>\n",
       "      <th>581</th>\n",
       "      <td>1542.HK</td>\n",
       "      <td>2019-12-31</td>\n",
       "      <td>Utilities</td>\n",
       "      <td>1542.HK</td>\n",
       "      <td>-0.011024</td>\n",
       "    </tr>\n",
       "  </tbody>\n",
       "</table>\n",
       "<p>582 rows × 5 columns</p>\n",
       "</div>"
      ],
      "text/plain": [
       "    Instrument    IPO Date TRBC Economic Sector Name  Company  return_1year\n",
       "0      1353.HK  2014-09-01        Consumer Cyclicals  1353.HK      0.000000\n",
       "1      1439.HK  2014-01-13           Basic Materials  1439.HK      0.000000\n",
       "2      1247.HK  2014-01-15        Consumer Cyclicals  1247.HK      0.040404\n",
       "3      3332.HK  2014-01-15        Consumer Cyclicals  3332.HK      0.021053\n",
       "4      2080.HK  2014-01-23               Real Estate  2080.HK     -0.010753\n",
       "..         ...         ...                       ...      ...           ...\n",
       "577    6049.HK  2019-12-19               Real Estate  6049.HK      0.037037\n",
       "578    9928.HK  2019-12-19               Real Estate  9928.HK      0.018182\n",
       "579    9909.HK  2019-12-30        Consumer Cyclicals  9909.HK     -0.024645\n",
       "580    9911.HK  2019-12-31        Consumer Cyclicals  9911.HK      0.031746\n",
       "581    1542.HK  2019-12-31                 Utilities  1542.HK     -0.011024\n",
       "\n",
       "[582 rows x 5 columns]"
      ]
     },
     "execution_count": 4,
     "metadata": {},
     "output_type": "execute_result"
    }
   ],
   "source": [
    "# Import TR and Return1Year data\n",
    "tr = pd.read_csv('data_TR.csv',usecols=['Instrument','IPO Date','TRBC Economic Sector Name'])\n",
    "tr[\"IPO Date\"] = pd.to_datetime(tr[\"IPO Date\"]).dt.strftime('%Y-%m-%d')\n",
    "\n",
    "stockReturn = pd.read_excel('Short_performance2.xlsx')[['Company','return_1year']]\n",
    "stockReturn[\"Company\"] = stockReturn[\"Company\"].astype(str).str.cat(['.HK']*603)\n",
    "\n",
    "tr = tr.merge(stockReturn, left_on='Instrument', right_on='Company')\n",
    "tr"
   ]
  },
  {
   "cell_type": "markdown",
   "metadata": {},
   "source": [
    "# Find peer groups and MktCap"
   ]
  },
  {
   "cell_type": "code",
   "execution_count": 5,
   "metadata": {},
   "outputs": [
    {
     "name": "stdout",
     "output_type": "stream",
     "text": [
      "2014-09-01 160.79\n"
     ]
    }
   ],
   "source": [
    "ipodate = tr.loc[tr[\"Instrument\"] == \"1353.HK\", \"IPO Date\"].values[0]\n",
    "marketcap = df.loc[df['Name'] == \"1353.HK\",ipodate].values[0]\n",
    "print(str(ipodate) + \" \" + str(marketcap))"
   ]
  },
  {
   "cell_type": "code",
   "execution_count": 6,
   "metadata": {},
   "outputs": [
    {
     "data": {
      "text/html": [
       "<div>\n",
       "<style scoped>\n",
       "    .dataframe tbody tr th:only-of-type {\n",
       "        vertical-align: middle;\n",
       "    }\n",
       "\n",
       "    .dataframe tbody tr th {\n",
       "        vertical-align: top;\n",
       "    }\n",
       "\n",
       "    .dataframe thead th {\n",
       "        text-align: right;\n",
       "    }\n",
       "</style>\n",
       "<table border=\"1\" class=\"dataframe\">\n",
       "  <thead>\n",
       "    <tr style=\"text-align: right;\">\n",
       "      <th></th>\n",
       "      <th>Stock</th>\n",
       "      <th>Industry</th>\n",
       "      <th>IPO</th>\n",
       "      <th>MktCap</th>\n",
       "      <th>return_1year</th>\n",
       "    </tr>\n",
       "  </thead>\n",
       "  <tbody>\n",
       "    <tr>\n",
       "      <th>0</th>\n",
       "      <td>1353.HK</td>\n",
       "      <td>Consumer Cyclicals</td>\n",
       "      <td>2014-09-01</td>\n",
       "      <td>160.79</td>\n",
       "      <td>0.000000</td>\n",
       "    </tr>\n",
       "    <tr>\n",
       "      <th>1</th>\n",
       "      <td>1439.HK</td>\n",
       "      <td>Basic Materials</td>\n",
       "      <td>2014-01-13</td>\n",
       "      <td>0.81</td>\n",
       "      <td>0.000000</td>\n",
       "    </tr>\n",
       "    <tr>\n",
       "      <th>2</th>\n",
       "      <td>1247.HK</td>\n",
       "      <td>Consumer Cyclicals</td>\n",
       "      <td>2014-01-15</td>\n",
       "      <td>2.81</td>\n",
       "      <td>0.040404</td>\n",
       "    </tr>\n",
       "    <tr>\n",
       "      <th>3</th>\n",
       "      <td>3332.HK</td>\n",
       "      <td>Consumer Cyclicals</td>\n",
       "      <td>2014-01-15</td>\n",
       "      <td>2.66</td>\n",
       "      <td>0.021053</td>\n",
       "    </tr>\n",
       "    <tr>\n",
       "      <th>4</th>\n",
       "      <td>2080.HK</td>\n",
       "      <td>Real Estate</td>\n",
       "      <td>2014-01-23</td>\n",
       "      <td>2.84</td>\n",
       "      <td>-0.010753</td>\n",
       "    </tr>\n",
       "    <tr>\n",
       "      <th>...</th>\n",
       "      <td>...</td>\n",
       "      <td>...</td>\n",
       "      <td>...</td>\n",
       "      <td>...</td>\n",
       "      <td>...</td>\n",
       "    </tr>\n",
       "    <tr>\n",
       "      <th>439</th>\n",
       "      <td>6049.HK</td>\n",
       "      <td>Real Estate</td>\n",
       "      <td>2019-12-19</td>\n",
       "      <td>45.35</td>\n",
       "      <td>0.037037</td>\n",
       "    </tr>\n",
       "    <tr>\n",
       "      <th>440</th>\n",
       "      <td>9928.HK</td>\n",
       "      <td>Real Estate</td>\n",
       "      <td>2019-12-19</td>\n",
       "      <td>4.88</td>\n",
       "      <td>0.018182</td>\n",
       "    </tr>\n",
       "    <tr>\n",
       "      <th>441</th>\n",
       "      <td>9909.HK</td>\n",
       "      <td>Consumer Cyclicals</td>\n",
       "      <td>2019-12-30</td>\n",
       "      <td>10.06</td>\n",
       "      <td>-0.024645</td>\n",
       "    </tr>\n",
       "    <tr>\n",
       "      <th>442</th>\n",
       "      <td>9911.HK</td>\n",
       "      <td>Consumer Cyclicals</td>\n",
       "      <td>2019-12-31</td>\n",
       "      <td>3.25</td>\n",
       "      <td>0.031746</td>\n",
       "    </tr>\n",
       "    <tr>\n",
       "      <th>443</th>\n",
       "      <td>1542.HK</td>\n",
       "      <td>Utilities</td>\n",
       "      <td>2019-12-31</td>\n",
       "      <td>4.22</td>\n",
       "      <td>-0.011024</td>\n",
       "    </tr>\n",
       "  </tbody>\n",
       "</table>\n",
       "<p>444 rows × 5 columns</p>\n",
       "</div>"
      ],
      "text/plain": [
       "       Stock            Industry         IPO  MktCap  return_1year\n",
       "0    1353.HK  Consumer Cyclicals  2014-09-01  160.79      0.000000\n",
       "1    1439.HK     Basic Materials  2014-01-13    0.81      0.000000\n",
       "2    1247.HK  Consumer Cyclicals  2014-01-15    2.81      0.040404\n",
       "3    3332.HK  Consumer Cyclicals  2014-01-15    2.66      0.021053\n",
       "4    2080.HK         Real Estate  2014-01-23    2.84     -0.010753\n",
       "..       ...                 ...         ...     ...           ...\n",
       "439  6049.HK         Real Estate  2019-12-19   45.35      0.037037\n",
       "440  9928.HK         Real Estate  2019-12-19    4.88      0.018182\n",
       "441  9909.HK  Consumer Cyclicals  2019-12-30   10.06     -0.024645\n",
       "442  9911.HK  Consumer Cyclicals  2019-12-31    3.25      0.031746\n",
       "443  1542.HK           Utilities  2019-12-31    4.22     -0.011024\n",
       "\n",
       "[444 rows x 5 columns]"
      ]
     },
     "execution_count": 6,
     "metadata": {},
     "output_type": "execute_result"
    }
   ],
   "source": [
    "# get list of stocks\n",
    "stocknames = tr['Instrument'].values\n",
    "\n",
    "# create dataframe with MktCap and return_1year\n",
    "data = pd.DataFrame(columns = ['Stock','Industry','IPO','MktCap', \"return_1year\"])\n",
    "for stock in stocknames:\n",
    "    try:\n",
    "        industry = tr.loc[tr[\"Instrument\"] == stock, \"TRBC Economic Sector Name\"].values[0]\n",
    "        return_1year = tr.loc[tr[\"Instrument\"] == stock, \"return_1year\"].values[0]\n",
    "        ipodate = tr.loc[tr[\"Instrument\"] == stock, \"IPO Date\"].values[0]\n",
    "        marketcap = df.loc[df[\"Name\"] == stock, ipodate].values[0]\n",
    "        if pd.isna(marketcap): continue\n",
    "        data = data.append({'Stock': stock, 'Industry': industry, 'IPO': ipodate, 'MktCap': marketcap, 'return_1year': return_1year}, ignore_index=True)\n",
    "    except KeyError as e:\n",
    "        #print(str(stock) + \" \" + str(e))\n",
    "        continue\n",
    "\n",
    "data"
   ]
  },
  {
   "cell_type": "code",
   "execution_count": 7,
   "metadata": {},
   "outputs": [
    {
     "name": "stdout",
     "output_type": "stream",
     "text": [
      "Industry: Consumer Cyclicals\n",
      "Division 1 - [Stock: 2230.HK] [MktCap: 0.31] [Return1Year: 0.07143]\n",
      "Division 2 - [Stock: 1906.HK] [MktCap: 0.58] [Return1Year: 0.02968]\n",
      "Division 3 - [Stock: 1872.HK] [MktCap: 0.63] [Return1Year: 0.00821]\n",
      "Division 4 - [Stock: 1418.HK] [MktCap: 1.1] [Return1Year: 0.05882]\n",
      "Division 5 - [Stock: 1418.HK] [MktCap: 1.1] [Return1Year: 0.05882]\n",
      "Division 6 - [Stock: 1575.HK] [MktCap: 1.76] [Return1Year: 0.01709]\n",
      "Division 7 - [Stock: 1247.HK] [MktCap: 2.81] [Return1Year: 0.0404]\n",
      "Division 8 - [Stock: 9911.HK] [MktCap: 3.25] [Return1Year: 0.03175]\n",
      "Division 9 - [Stock: 3709.HK] [MktCap: 4.4] [Return1Year: 0.14894]\n",
      "Division 10 - [Stock: 1691.HK] [MktCap: 5.49] [Return1Year: 0.09615]\n",
      "=====END=====\n",
      "\n",
      "Industry: Basic Materials\n",
      "Division 1 - [Stock: 1629.HK] [MktCap: 0.76] [Return1Year: 0.01961]\n",
      "Division 2 - [Stock: 1636.HK] [MktCap: 0.98] [Return1Year: 0.04051]\n",
      "Division 3 - [Stock: 1452.HK] [MktCap: 1.45] [Return1Year: 0.0838]\n",
      "Division 4 - [Stock: 3626.HK] [MktCap: 2.61] [Return1Year: 0.04375]\n",
      "=====END=====\n",
      "\n",
      "Industry: Real Estate\n",
      "Division 1 - [Stock: 2892.HK] [MktCap: 1.26] [Return1Year: 0.01794]\n",
      "Division 2 - [Stock: 3639.HK] [MktCap: 2.44] [Return1Year: 0.09403]\n",
      "Division 3 - [Stock: 2608.HK] [MktCap: 3.74] [Return1Year: 0.10345]\n",
      "Division 4 - [Stock: 2278.HK] [MktCap: 4.8] [Return1Year: 0.0186]\n",
      "=====END=====\n",
      "\n",
      "Industry: Consumer Non-Cyclicals\n",
      "Division 1 - [Stock: 2119.HK] [MktCap: 1.07] [Return1Year: 0.00116]\n",
      "Division 2 - [Stock: 1962.HK] [MktCap: 1.54] [Return1Year: 0.06897]\n",
      "Division 3 - [Stock: 2138.HK] [MktCap: 2.32] [Return1Year: 0.06283]\n",
      "Division 4 - [Stock: 1458.HK] [MktCap: 6.67] [Return1Year: 0.04122]\n",
      "=====END=====\n",
      "\n",
      "Industry: Utilities\n",
      "Division 1 - [Stock: 2281.HK] [MktCap: 2.27] [Return1Year: 0.01752]\n",
      "=====END=====\n",
      "\n",
      "Industry: Financials\n",
      "Division 1 - [Stock: 3877.HK] [MktCap: 1.24] [Return1Year: 0.0367]\n",
      "Division 2 - [Stock: 6161.HK] [MktCap: 2.15] [Return1Year: 0.06519]\n",
      "Division 3 - [Stock: 2799.HK] [MktCap: 3.1] [Return1Year: 0.04762]\n",
      "Division 4 - [Stock: 1848.HK] [MktCap: 7.9] [Return1Year: 0.0303]\n",
      "=====END=====\n",
      "\n",
      "Industry: Industrials\n",
      "Division 1 - [Stock: 1920.HK] [MktCap: 0.168] [Return1Year: 0.03488]\n",
      "Division 2 - [Stock: 1891.HK] [MktCap: 0.37] [Return1Year: 0.03162]\n",
      "Division 3 - [Stock: 1943.HK] [MktCap: 0.465] [Return1Year: 0.07692]\n",
      "Division 4 - [Stock: 1556.HK] [MktCap: 0.61] [Return1Year: 0.09375]\n",
      "Division 5 - [Stock: 2680.HK] [MktCap: 0.98] [Return1Year: 0.0411]\n",
      "Division 6 - [Stock: 6816.HK] [MktCap: 1.13] [Return1Year: 0.05063]\n",
      "Division 7 - [Stock: 3878.HK] [MktCap: 1.26] [Return1Year: 0.11333]\n",
      "Division 8 - [Stock: 2017.HK] [MktCap: 2.17] [Return1Year: 0.02632]\n",
      "Division 9 - [Stock: 1599.HK] [MktCap: 3.65] [Return1Year: 0.12805]\n",
      "Division 10 - [Stock: 1527.HK] [MktCap: 7.51] [Return1Year: 0.06818]\n",
      "=====END=====\n",
      "\n",
      "Industry: Energy\n",
      "Division 1 - [Stock: 1960.HK] [MktCap: 0.8] [Return1Year: 0.04412]\n",
      "=====END=====\n",
      "\n",
      "Industry: Technology\n",
      "Division 1 - [Stock: 1747.HK] [MktCap: 0.92] [Return1Year: 0.15385]\n",
      "Division 2 - [Stock: 6133.HK] [MktCap: 2.128] [Return1Year: 0.01624]\n",
      "Division 3 - [Stock: 6819.HK] [MktCap: 5.21] [Return1Year: 0.01852]\n",
      "Division 4 - [Stock: 1896.HK] [MktCap: 16.8] [Return1Year: 0.08434]\n",
      "=====END=====\n",
      "\n",
      "Industry: Academic & Educational Services\n",
      "Division 1 - [Stock: 1871.HK] [MktCap: 0.87] [Return1Year: 0.04054]\n",
      "Division 2 - [Stock: 6068.HK] [MktCap: 1.69] [Return1Year: 0.00451]\n",
      "Division 3 - [Stock: 1969.HK] [MktCap: 1.74] [Return1Year: 0.00349]\n",
      "Division 4 - [Stock: 1758.HK] [MktCap: 2.87] [Return1Year: 0.03333]\n",
      "=====END=====\n",
      "\n",
      "Industry: Healthcare\n",
      "Division 1 - [Stock: 1548.HK] [MktCap: 1.312] [Return1Year: 0.05333]\n",
      "Division 2 - [Stock: 1858.HK] [MktCap: 2.596] [Return1Year: 0.01403]\n",
      "Division 3 - [Stock: 1558.HK] [MktCap: 7.27] [Return1Year: 0.06651]\n",
      "Division 4 - [Stock: 3869.HK] [MktCap: 12.96] [Return1Year: 0.01807]\n",
      "=====END=====\n",
      "\n"
     ]
    }
   ],
   "source": [
    "# Find company with best performance among peers\n",
    "graph_MktCap = []\n",
    "graph_Return1Year = []\n",
    "\n",
    "for industry in data.Industry.unique():\n",
    "    \n",
    "    divisions = 10 if industry in [\"Consumer Cyclicals\", \"Industrials\"] else 1 if industry in [\"Utilities\", \"Energy\"] else 4\n",
    "    size = int(len(data.loc[data[\"Industry\"] == industry].sort_values(by=['MktCap']))/divisions)\n",
    "    remainder = len(data.loc[data[\"Industry\"] == industry].sort_values(by=['MktCap']))%divisions\n",
    "    \n",
    "    print(\"Industry: \" + str(industry))\n",
    "    mc, r1y = [], []\n",
    "    \n",
    "    for d in range(divisions):\n",
    "        \n",
    "        start = d*size\n",
    "        end = (d+1)*size+1 if d<remainder else (d+1)*size\n",
    "        peers = data.loc[data[\"Industry\"] == industry].sort_values(by=['MktCap']).iloc[start:end]\n",
    "        \n",
    "        #print(peers.sort_values(by=['return_1year'], ascending=False).iloc[0:1])\n",
    "        best = peers.sort_values(by=['return_1year'], ascending=False).iloc[0:1]\n",
    "        stock = best[\"Stock\"].values[0]\n",
    "        MktCap = round(best[\"MktCap\"].values[0], 3)\n",
    "        Return1Year = round(best['return_1year'].values[0], 5)\n",
    "        \n",
    "        print(\"Division {} - [Stock: {}] [MktCap: {}] [Return1Year: {}]\".format(d+1, stock, MktCap, Return1Year))\n",
    "        mc.append(MktCap)\n",
    "        r1y.append(Return1Year)\n",
    "    \n",
    "    graph_MktCap.append(mc)\n",
    "    graph_Return1Year.append(r1y)\n",
    "    print(\"=====END=====\\n\")"
   ]
  },
  {
   "cell_type": "code",
   "execution_count": 8,
   "metadata": {},
   "outputs": [
    {
     "name": "stdout",
     "output_type": "stream",
     "text": [
      "Industry: Consumer Cyclicals\n",
      "Division 1 - [avgMktCap: 0.282] [avgReturn1Year: 0.00659]\n",
      "Division 2 - [avgMktCap: 0.479] [avgReturn1Year: 0.00421]\n",
      "Division 3 - [avgMktCap: 0.704] [avgReturn1Year: -0.01724]\n",
      "Division 4 - [avgMktCap: 0.982] [avgReturn1Year: -0.0064]\n",
      "Division 5 - [avgMktCap: 1.227] [avgReturn1Year: -0.00512]\n",
      "Division 6 - [avgMktCap: 1.76] [avgReturn1Year: -0.00518]\n",
      "Division 7 - [avgMktCap: 2.787] [avgReturn1Year: 0.00657]\n",
      "Division 8 - [avgMktCap: 3.457] [avgReturn1Year: 0.00036]\n",
      "Division 9 - [avgMktCap: 4.391] [avgReturn1Year: 0.0331]\n",
      "Division 10 - [avgMktCap: 6.314] [avgReturn1Year: 0.00827]\n",
      "=====END=====\n",
      "\n",
      "Industry: Basic Materials\n",
      "Division 1 - [avgMktCap: 0.638] [avgReturn1Year: -0.00295]\n",
      "Division 2 - [avgMktCap: 1.083] [avgReturn1Year: -0.0028]\n",
      "Division 3 - [avgMktCap: 1.817] [avgReturn1Year: 0.02282]\n",
      "Division 4 - [avgMktCap: 2.732] [avgReturn1Year: 0.00805]\n",
      "=====END=====\n",
      "\n",
      "Industry: Real Estate\n",
      "Division 1 - [avgMktCap: 1.261] [avgReturn1Year: -0.00442]\n",
      "Division 2 - [avgMktCap: 2.302] [avgReturn1Year: 0.006]\n",
      "Division 3 - [avgMktCap: 3.252] [avgReturn1Year: 0.01673]\n",
      "Division 4 - [avgMktCap: 6.475] [avgReturn1Year: 0.00634]\n",
      "=====END=====\n",
      "\n",
      "Industry: Consumer Non-Cyclicals\n",
      "Division 1 - [avgMktCap: 0.779] [avgReturn1Year: -0.02201]\n",
      "Division 2 - [avgMktCap: 1.679] [avgReturn1Year: 0.00234]\n",
      "Division 3 - [avgMktCap: 3.316] [avgReturn1Year: 0.01265]\n",
      "Division 4 - [avgMktCap: 9.579] [avgReturn1Year: -0.00652]\n",
      "=====END=====\n",
      "\n",
      "Industry: Utilities\n",
      "Division 1 - [avgMktCap: 2.775] [avgReturn1Year: -0.00498]\n",
      "=====END=====\n",
      "\n",
      "Industry: Financials\n",
      "Division 1 - [avgMktCap: 1.375] [avgReturn1Year: 0.00552]\n",
      "Division 2 - [avgMktCap: 2.305] [avgReturn1Year: 0.00015]\n",
      "Division 3 - [avgMktCap: 3.668] [avgReturn1Year: 0.01401]\n",
      "Division 4 - [avgMktCap: 6.693] [avgReturn1Year: -0.00753]\n",
      "=====END=====\n",
      "\n",
      "Industry: Industrials\n",
      "Division 1 - [avgMktCap: 0.198] [avgReturn1Year: 0.00626]\n",
      "Division 2 - [avgMktCap: 0.383] [avgReturn1Year: 0.00155]\n",
      "Division 3 - [avgMktCap: 0.491] [avgReturn1Year: 0.00191]\n",
      "Division 4 - [avgMktCap: 0.661] [avgReturn1Year: 0.00841]\n",
      "Division 5 - [avgMktCap: 0.936] [avgReturn1Year: 0.01466]\n",
      "Division 6 - [avgMktCap: 1.19] [avgReturn1Year: 0.00981]\n",
      "Division 7 - [avgMktCap: 1.348] [avgReturn1Year: 0.01814]\n",
      "Division 8 - [avgMktCap: 1.978] [avgReturn1Year: 0.00319]\n",
      "Division 9 - [avgMktCap: 3.252] [avgReturn1Year: -0.02089]\n",
      "Division 10 - [avgMktCap: 7.762] [avgReturn1Year: 0.00578]\n",
      "=====END=====\n",
      "\n",
      "Industry: Energy\n",
      "Division 1 - [avgMktCap: 2.174] [avgReturn1Year: 0.00403]\n",
      "=====END=====\n",
      "\n",
      "Industry: Technology\n",
      "Division 1 - [avgMktCap: 0.762] [avgReturn1Year: 0.02802]\n",
      "Division 2 - [avgMktCap: 1.789] [avgReturn1Year: 0.00017]\n",
      "Division 3 - [avgMktCap: 3.925] [avgReturn1Year: 9e-05]\n",
      "Division 4 - [avgMktCap: 20.325] [avgReturn1Year: 0.01128]\n",
      "=====END=====\n",
      "\n",
      "Industry: Academic & Educational Services\n",
      "Division 1 - [avgMktCap: 1.111] [avgReturn1Year: -0.00333]\n",
      "Division 2 - [avgMktCap: 1.624] [avgReturn1Year: 0.00075]\n",
      "Division 3 - [avgMktCap: 2.144] [avgReturn1Year: -0.00438]\n",
      "Division 4 - [avgMktCap: 2.824] [avgReturn1Year: 0.00716]\n",
      "=====END=====\n",
      "\n",
      "Industry: Healthcare\n",
      "Division 1 - [avgMktCap: 1.413] [avgReturn1Year: -0.00121]\n",
      "Division 2 - [avgMktCap: 3.867] [avgReturn1Year: -0.00876]\n",
      "Division 3 - [avgMktCap: 7.814] [avgReturn1Year: 0.00785]\n",
      "Division 4 - [avgMktCap: 18.454] [avgReturn1Year: -0.02027]\n",
      "=====END=====\n",
      "\n"
     ]
    }
   ],
   "source": [
    "# Find average performance of peer groups\n",
    "graph_avgMktCap = []\n",
    "graph_avgReturn1Year = []\n",
    "\n",
    "for industry in data.Industry.unique():\n",
    "    \n",
    "    divisions = 10 if industry in [\"Consumer Cyclicals\", \"Industrials\"] else 1 if industry in [\"Utilities\", \"Energy\"] else 4\n",
    "    size = int(len(data.loc[data[\"Industry\"] == industry].sort_values(by=['MktCap']))/divisions)\n",
    "    remainder = len(data.loc[data[\"Industry\"] == industry].sort_values(by=['MktCap']))%divisions\n",
    "    \n",
    "    print(\"Industry: \" + str(industry))\n",
    "    mc, r1y = [], []\n",
    "    \n",
    "    for d in range(divisions):\n",
    "    \n",
    "        start = d*size\n",
    "        end = (d+1)*size+1 if d<remainder else (d+1)*size\n",
    "        peers = data.loc[data[\"Industry\"] == industry].sort_values(by=['MktCap']).iloc[start:end]\n",
    "        \n",
    "        avgMktCap = round(peers[\"MktCap\"].mean(), 3)\n",
    "        avgReturn1Year = round(peers['return_1year'].mean(), 5)\n",
    "        \n",
    "        print(\"Division {} - [avgMktCap: {}] [avgReturn1Year: {}]\".format(d+1, avgMktCap, avgReturn1Year))\n",
    "        mc.append(avgMktCap)\n",
    "        r1y.append(avgReturn1Year)\n",
    "        \n",
    "    graph_avgMktCap.append(mc)\n",
    "    graph_avgReturn1Year.append(r1y)\n",
    "    print(\"=====END=====\\n\")"
   ]
  },
  {
   "cell_type": "markdown",
   "metadata": {},
   "source": [
    "# Plot against Return1Year"
   ]
  },
  {
   "cell_type": "code",
   "execution_count": 9,
   "metadata": {},
   "outputs": [],
   "source": [
    "import matplotlib.pyplot as plt"
   ]
  },
  {
   "cell_type": "code",
   "execution_count": 10,
   "metadata": {},
   "outputs": [
    {
     "data": {
      "image/png": "[encoded data removed]",
      "text/plain": [
       "<Figure size 288x144 with 1 Axes>"
      ]
     },
     "metadata": {
      "needs_background": "light"
     },
     "output_type": "display_data"
    },
    {
     "data": {
      "image/png": "[encoded data removed]",
      "text/plain": [
       "<Figure size 288x144 with 1 Axes>"
      ]
     },
     "metadata": {
      "needs_background": "light"
     },
     "output_type": "display_data"
    },
    {
     "data": {
      "image/png": "[encoded data removed]",
      "text/plain": [
       "<Figure size 288x144 with 1 Axes>"
      ]
     },
     "metadata": {
      "needs_background": "light"
     },
     "output_type": "display_data"
    },
    {
     "data": {
      "image/png": "[encoded data removed]",
      "text/plain": [
       "<Figure size 288x144 with 1 Axes>"
      ]
     },
     "metadata": {
      "needs_background": "light"
     },
     "output_type": "display_data"
    },
    {
     "data": {
      "image/png": "[encoded data removed]",
      "text/plain": [
       "<Figure size 288x144 with 1 Axes>"
      ]
     },
     "metadata": {
      "needs_background": "light"
     },
     "output_type": "display_data"
    },
    {
     "data": {
      "image/png": "[encoded data removed]",
      "text/plain": [
       "<Figure size 288x144 with 1 Axes>"
      ]
     },
     "metadata": {
      "needs_background": "light"
     },
     "output_type": "display_data"
    },
    {
     "data": {
      "image/png": "[encoded data removed]",
      "text/plain": [
       "<Figure size 288x144 with 1 Axes>"
      ]
     },
     "metadata": {
      "needs_background": "light"
     },
     "output_type": "display_data"
    },
    {
     "data": {
      "image/png": "[encoded data removed]",
      "text/plain": [
       "<Figure size 288x144 with 1 Axes>"
      ]
     },
     "metadata": {
      "needs_background": "light"
     },
     "output_type": "display_data"
    },
    {
     "data": {
      "image/png": "[encoded data removed]",
      "text/plain": [
       "<Figure size 288x144 with 1 Axes>"
      ]
     },
     "metadata": {
      "needs_background": "light"
     },
     "output_type": "display_data"
    },
    {
     "data": {
      "image/png": "[encoded data removed]",
      "text/plain": [
       "<Figure size 288x144 with 1 Axes>"
      ]
     },
     "metadata": {
      "needs_background": "light"
     },
     "output_type": "display_data"
    },
    {
     "data": {
      "image/png": "[encoded data removed]",
      "text/plain": [
       "<Figure size 288x144 with 1 Axes>"
      ]
     },
     "metadata": {
      "needs_background": "light"
     },
     "output_type": "display_data"
    }
   ],
   "source": [
    "# Plot company with best performance among peers\n",
    "x1 = graph_MktCap\n",
    "y1 = graph_Return1Year\n",
    "\n",
    "industries = data.Industry.unique()\n",
    "for i in range(len(industries)):\n",
    "    plt.figure(figsize=(4, 2))\n",
    "    plt.title(industries[i])\n",
    "    plt.plot(x1[i],y1[i])"
   ]
  },
  {
   "cell_type": "code",
   "execution_count": 11,
   "metadata": {},
   "outputs": [
    {
     "data": {
      "image/png": "[encoded data removed]",
      "text/plain": [
       "<Figure size 288x144 with 1 Axes>"
      ]
     },
     "metadata": {
      "needs_background": "light"
     },
     "output_type": "display_data"
    },
    {
     "data": {
      "image/png": "[encoded data removed]",
      "text/plain": [
       "<Figure size 288x144 with 1 Axes>"
      ]
     },
     "metadata": {
      "needs_background": "light"
     },
     "output_type": "display_data"
    },
    {
     "data": {
      "image/png": "[encoded data removed]",
      "text/plain": [
       "<Figure size 288x144 with 1 Axes>"
      ]
     },
     "metadata": {
      "needs_background": "light"
     },
     "output_type": "display_data"
    },
    {
     "data": {
      "image/png": "[encoded data removed]",
      "text/plain": [
       "<Figure size 288x144 with 1 Axes>"
      ]
     },
     "metadata": {
      "needs_background": "light"
     },
     "output_type": "display_data"
    },
    {
     "data": {
      "image/png": "[encoded data removed]",
      "text/plain": [
       "<Figure size 288x144 with 1 Axes>"
      ]
     },
     "metadata": {
      "needs_background": "light"
     },
     "output_type": "display_data"
    },
    {
     "data": {
      "image/png": "[encoded data removed]",
      "text/plain": [
       "<Figure size 288x144 with 1 Axes>"
      ]
     },
     "metadata": {
      "needs_background": "light"
     },
     "output_type": "display_data"
    },
    {
     "data": {
      "image/png": "[encoded data removed]",
      "text/plain": [
       "<Figure size 288x144 with 1 Axes>"
      ]
     },
     "metadata": {
      "needs_background": "light"
     },
     "output_type": "display_data"
    },
    {
     "data": {
      "image/png": "[encoded data removed]",
      "text/plain": [
       "<Figure size 288x144 with 1 Axes>"
      ]
     },
     "metadata": {
      "needs_background": "light"
     },
     "output_type": "display_data"
    },
    {
     "data": {
      "image/png": "[encoded data removed]",
      "text/plain": [
       "<Figure size 288x144 with 1 Axes>"
      ]
     },
     "metadata": {
      "needs_background": "light"
     },
     "output_type": "display_data"
    },
    {
     "data": {
      "image/png": "[encoded data removed]",
      "text/plain": [
       "<Figure size 288x144 with 1 Axes>"
      ]
     },
     "metadata": {
      "needs_background": "light"
     },
     "output_type": "display_data"
    },
    {
     "data": {
      "image/png": "[encoded data removed]",
      "text/plain": [
       "<Figure size 288x144 with 1 Axes>"
      ]
     },
     "metadata": {
      "needs_background": "light"
     },
     "output_type": "display_data"
    }
   ],
   "source": [
    "# Plot average performance of peer groups\n",
    "x2 = graph_avgMktCap\n",
    "y2 = graph_avgReturn1Year\n",
    "\n",
    "industries = data.Industry.unique()\n",
    "for i in range(len(industries)):\n",
    "    plt.figure(figsize=(4, 2))\n",
    "    plt.title(industries[i])\n",
    "    plt.plot(x1[i],y1[i])"
   ]
  },
  {
   "cell_type": "code",
   "execution_count": null,
   "metadata": {},
   "outputs": [],
   "source": []
  }
 ],
 "metadata": {
  "kernelspec": {
   "display_name": "Python 3",
   "language": "python",
   "name": "python3"
  },
  "language_info": {
   "codemirror_mode": {
    "name": "ipython",
    "version": 3
   },
   "file_extension": ".py",
   "mimetype": "text/x-python",
   "name": "python",
   "nbconvert_exporter": "python",
   "pygments_lexer": "ipython3",
   "version": "3.8.3"
  }
 },
 "nbformat": 4,
 "nbformat_minor": 4
}
